{
 "cells": [
  {
   "cell_type": "markdown",
   "id": "4fb47270-1fc8-44e9-8b93-f71f2f1835c4",
   "metadata": {},
   "source": [
    "### Imports"
   ]
  },
  {
   "cell_type": "code",
   "execution_count": 1,
   "id": "f0950342-3e2c-4ea9-8080-4b71c2cfd1be",
   "metadata": {},
   "outputs": [],
   "source": [
    "import warnings \n",
    "warnings.filterwarnings('ignore')\n",
    "\n",
    "import torch\n",
    "import pprint\n",
    "from transformers import AutoTokenizer, AutoModelForSeq2SeqLM\n",
    "from transformers import SeamlessM4Tv2Model, AutoProcessor\n",
    "\n",
    "from src.tokenize import AggregatedTokenizer\n",
    "from src.generate import EnsembleGenerator\n",
    "from src.evaluate import SimilarityChecker\n"
   ]
  },
  {
   "cell_type": "markdown",
   "id": "d8e830d5-643b-439b-8e14-45650e7dd56f",
   "metadata": {},
   "source": [
    "### Config"
   ]
  },
  {
   "cell_type": "code",
   "execution_count": 2,
   "id": "cc0cbf4c-a7a7-4c4a-ab39-c7efdc1a7f0e",
   "metadata": {},
   "outputs": [],
   "source": [
    "device = torch.device(\"cuda:0\") if torch.cuda.is_available() else torch.device(\"cpu\")"
   ]
  },
  {
   "cell_type": "markdown",
   "id": "826b55e3-a957-416f-8371-b43e83cd1e2a",
   "metadata": {},
   "source": [
    "### Initialize single translator-models for ensemble "
   ]
  },
  {
   "cell_type": "code",
   "execution_count": 3,
   "id": "71b9ca22-99c8-4f51-bc52-afbdef42b55b",
   "metadata": {},
   "outputs": [
    {
     "data": {
      "application/vnd.jupyter.widget-view+json": {
       "model_id": "b29e71fb2de341e993f1cba307794560",
       "version_major": 2,
       "version_minor": 0
      },
      "text/plain": [
       "Loading checkpoint shards:   0%|          | 0/3 [00:00<?, ?it/s]"
      ]
     },
     "metadata": {},
     "output_type": "display_data"
    },
    {
     "name": "stderr",
     "output_type": "stream",
     "text": [
      "Special tokens have been added in the vocabulary, make sure the associated word embeddings are fine-tuned or trained.\n",
      "Special tokens have been added in the vocabulary, make sure the associated word embeddings are fine-tuned or trained.\n"
     ]
    },
    {
     "data": {
      "application/vnd.jupyter.widget-view+json": {
       "model_id": "b78b7d61d00844e28ec9e8a4e59d2e95",
       "version_major": 2,
       "version_minor": 0
      },
      "text/plain": [
       "Loading checkpoint shards:   0%|          | 0/2 [00:00<?, ?it/s]"
      ]
     },
     "metadata": {},
     "output_type": "display_data"
    }
   ],
   "source": [
    "# !padding_side affects translation quality greatly!\n",
    "\n",
    "tokenizer = AutoTokenizer.from_pretrained(\"facebook/nllb-200-3.3B\", padding_side=\"left\")\n",
    "model = AutoModelForSeq2SeqLM.from_pretrained(\"facebook/nllb-200-3.3B\").to(device)\n",
    "\n",
    "processor = AutoProcessor.from_pretrained(\"facebook/seamless-m4t-v2-large\", padding_side=\"left\")\n",
    "model2 = SeamlessM4Tv2Model.from_pretrained(\"facebook/seamless-m4t-v2-large\").to(device)\n",
    "\n",
    "tokenizer3 = AutoTokenizer.from_pretrained(\"google/madlad400-3b-mt\", padding_side=\"left\")\n",
    "model3 = AutoModelForSeq2SeqLM.from_pretrained(\"google/madlad400-3b-mt\").to(device)"
   ]
  },
  {
   "cell_type": "markdown",
   "id": "e5bac727-185b-4eb0-ad50-c76867e02eb0",
   "metadata": {},
   "source": [
    "### Initialize similarity checker"
   ]
  },
  {
   "cell_type": "code",
   "execution_count": 4,
   "id": "64406ff7-32b5-4b30-86ea-b74337288adf",
   "metadata": {},
   "outputs": [],
   "source": [
    "similarity_checker = SimilarityChecker(score_names=['bertscore', 'sentence_chrf'])"
   ]
  },
  {
   "cell_type": "markdown",
   "id": "bc8debe4-33fe-4b54-8952-cf6d938ae7e6",
   "metadata": {},
   "source": [
    "### Initialize aggregated tokenizer"
   ]
  },
  {
   "cell_type": "code",
   "execution_count": 5,
   "id": "3c624424-fdd6-46fa-b090-97bc011a3ceb",
   "metadata": {},
   "outputs": [
    {
     "name": "stdout",
     "output_type": "stream",
     "text": [
      "Adding tokens from tokenizer 0 to aggregated tokenizer --> Done\n",
      "Adding tokens from tokenizer 1 to aggregated tokenizer --> Done\n",
      "Adding tokens from tokenizer 2 to aggregated tokenizer --> Done\n"
     ]
    }
   ],
   "source": [
    "agg_tokenizer = AggregatedTokenizer(\n",
    "    tokenizers=[\n",
    "        tokenizer, \n",
    "        processor.tokenizer,\n",
    "        tokenizer3,\n",
    "    ],\n",
    "    tokenization_kwargs=[\n",
    "        dict(),\n",
    "        dict(src_lang=\"eng\", tgt_lang=\"rus\"),\n",
    "        dict(),\n",
    "    ],\n",
    "    decoder_tokenization_postprocessing=[\n",
    "        None,\n",
    "        None, \n",
    "        None\n",
    "    ]\n",
    ")"
   ]
  },
  {
   "cell_type": "markdown",
   "id": "6ac556bd-c201-4f2a-9d27-73c8350aa41b",
   "metadata": {},
   "source": [
    "### Initialize ensemble generator "
   ]
  },
  {
   "cell_type": "code",
   "execution_count": 6,
   "id": "3e396c72-63d5-4fd2-8e34-2596305d496a",
   "metadata": {},
   "outputs": [],
   "source": [
    "ensemble_generator = EnsembleGenerator(\n",
    "    models=[\n",
    "        model, \n",
    "        model2,\n",
    "        model3,\n",
    "    ],\n",
    "    generation_kwargs=[\n",
    "        dict(),\n",
    "        dict(generate_speech=False),\n",
    "        dict(),\n",
    "\n",
    "    ],\n",
    "    agg_tokenizer=agg_tokenizer,\n",
    "    similarity_checker=similarity_checker,\n",
    "    decoder_prompts = [\n",
    "        \"</s> rus_Cyrl\",\n",
    "        \"</s> __rus__\",\n",
    "        \"<unk>\",\n",
    "    ],\n",
    "    encoder_prompts = [\n",
    "        None,\n",
    "        None,\n",
    "        \"<2ru>\"\n",
    "    ]\n",
    ")"
   ]
  },
  {
   "cell_type": "markdown",
   "id": "84db0405-780a-443a-8b7f-0322c8935c93",
   "metadata": {},
   "source": [
    "### Ensemble text translation example"
   ]
  },
  {
   "cell_type": "code",
   "execution_count": 9,
   "id": "0cff9947-2bc1-4bf9-b1ab-362341f7f703",
   "metadata": {
    "scrolled": true
   },
   "outputs": [
    {
     "name": "stdout",
     "output_type": "stream",
     "text": [
      "CPU times: user 1min 41s, sys: 3.82 s, total: 1min 45s\n",
      "Wall time: 1min 52s\n"
     ]
    },
    {
     "data": {
      "text/plain": [
       "{'ensemble_translation': 'Virgin Australia, торговое название Virgin Australia Airlines Pty Ltd, является австралийской авиакомпанией. Это крупнейшая авиакомпания по размеру флота, использующая бренд Virgin. Она начала свои услуги 31 августа 2000 года как Virgin Blue, с двумя самолетами на одном маршруте. Она внезапно оказалась крупной авиакомпанией на внутреннем рынке Австралии после краха Ansett Australia в сентябре 2001 года. С тех пор авиакомпания выросла, чтобы напрямую обслуживать 32 города в Австралии из узлов в Брисбене, Мельбурне и Сиднее.',\n",
       " 'instance_translations': [' Virgin Australia, торговое название Virgin Australia Airlines Pty Ltd, является австралийской авиакомпанией. Это крупнейшая авиакомпания по размеру флота, использующая бренд Virgin. Она начала обслуживание 31 августа 2000 года как Virgin Blue, с двумя самолетами на одном маршруте. Она внезапно оказалась крупной авиакомпанией на внутреннем рынке Австралии после краха Ansett Australia в сентябре 2001 года. Авиакомпания с тех пор выросла, чтобы напрямую обслуживать 32 города в Австралии, из хабов в Брисбене, Мельбурне и Сиднее.',\n",
       "  'Virgin Australia, торговое название Virgin Australia Airlines Pty Ltd, является авиакомпанией, базирующейся в Австралии. Это крупнейшая авиакомпания по размеру флота, использующая бренд Virgin. Она начала обслуживать 31 августа 2000 года как Virgin Blue, с двумя самолетами на одном маршруте. Она внезапно стала крупной авиакомпанией на внутреннем рынке Австралии после краха Ansett Australia в сентябре 2001 года.',\n",
       "  'Virgin Australia, торговое название Virgin Australia Airlines Pty Ltd, является австралийской авиакомпанией. Это самая большая авиакомпания по размеру флота, использующая бренд Virgin. Она начала обслуживание 31 августа 2000 года как Virgin Blue, с двумя самолетами на одном маршруте. Она внезапно оказалась главной авиакомпанией на внутреннем рынке Австралии после краха Ansett Australia в сентябре 2001 года. С тех пор авиакомпания выросла, чтобы напрямую обслуживать 32 города в Австралии, из узлов в Брисбене, Мельбурне и Сиднее.\"'],\n",
       " 'similarity': {'bertscore': {'precision': 0.9230063756306967,\n",
       "   'recall': 0.9292451540629069,\n",
       "   'f1': 0.9252624114354452},\n",
       "  'sentence_chrf': {'value': 0.8502583244717}}}"
      ]
     },
     "execution_count": 9,
     "metadata": {},
     "output_type": "execute_result"
    }
   ],
   "source": [
    "%%time\n",
    "eng_text = \"\"\"\n",
    "Virgin Australia, the trading name of Virgin Australia Airlines Pty Ltd, \n",
    "is an Australian-based airline. It is the largest airline by fleet size \n",
    "to use the Virgin brand. It commenced services on 31 August 2000 as \n",
    "Virgin Blue, with two aircraft on a single route. It suddenly found \n",
    "itself as a major airline in Australia's domestic market after the \n",
    "collapse of Ansett Australia in September 2001. The airline has since \n",
    "grown to directly serve 32 cities in Australia, from hubs in Brisbane, \n",
    "Melbourne and Sydney.\"\n",
    "\"\"\"\n",
    "\n",
    "\"\"\"\n",
    " For text above:\n",
    "-----------------------------------------------------------------------------------\n",
    " - instance translations generation: ~10s (num_beams=5)\n",
    " - ensemble translation generation:  ~1m 30s (num_beams=3) | ~1m 10s (num_beams=2) \n",
    " - translations evaluation:          ~2s\n",
    "-----------------------------------------------------------------------------------\n",
    "  Total:                             ~1m 40s\n",
    "\n",
    "\"\"\"\n",
    "\n",
    "response_translated = ensemble_generator.translate(\n",
    "    eng_text, \n",
    "    device=device,\n",
    "    ensemble_num_beams=5,\n",
    "    instance_num_beams=5,\n",
    "    max_new_tokens=256,\n",
    "    verbose=False\n",
    ")\n",
    "response_translated"
   ]
  },
  {
   "cell_type": "code",
   "execution_count": null,
   "id": "26692408-e566-4279-96f0-d3eed5fb89d1",
   "metadata": {},
   "outputs": [],
   "source": []
  }
 ],
 "metadata": {
  "kernelspec": {
   "display_name": "Python 3 (ipykernel)",
   "language": "python",
   "name": "python3"
  },
  "language_info": {
   "codemirror_mode": {
    "name": "ipython",
    "version": 3
   },
   "file_extension": ".py",
   "mimetype": "text/x-python",
   "name": "python",
   "nbconvert_exporter": "python",
   "pygments_lexer": "ipython3",
   "version": "3.10.12"
  }
 },
 "nbformat": 4,
 "nbformat_minor": 5
}
